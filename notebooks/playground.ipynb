{
 "cells": [
  {
   "cell_type": "code",
   "execution_count": 1,
   "id": "ecdc7c6d-e00a-4aec-9e4c-edbaab54a597",
   "metadata": {},
   "outputs": [
    {
     "data": {
      "text/plain": [
       "<bound method tqdm.pandas of <class 'tqdm.std.tqdm'>>"
      ]
     },
     "execution_count": 1,
     "metadata": {},
     "output_type": "execute_result"
    }
   ],
   "source": [
    "import pandas as pd\n",
    "import numpy as np\n",
    "import matplotlib.pyplot as plt\n",
    "import os\n",
    "import sys\n",
    "from tqdm import tqdm\n",
    "\n",
    "tqdm.pandas"
   ]
  },
  {
   "cell_type": "code",
   "execution_count": 2,
   "id": "a915bcff-79cb-4197-be91-882a721fde76",
   "metadata": {},
   "outputs": [],
   "source": [
    "module_path = os.path.abspath(os.path.join(\"..\"))\n",
    "if module_path not in sys.path:\n",
    "    sys.path.append(module_path)"
   ]
  },
  {
   "cell_type": "code",
   "execution_count": 3,
   "id": "22837b8d-44a8-48ab-b36d-b80113e6e5bd",
   "metadata": {},
   "outputs": [],
   "source": [
    "from modules import cleaning, preprocess, word2vec_model"
   ]
  },
  {
   "cell_type": "code",
   "execution_count": 4,
   "id": "5f1509a2-9133-40e0-9e99-c932a7fb8c1f",
   "metadata": {},
   "outputs": [],
   "source": [
    "df = pd.read_csv(\"../data/train.csv\")"
   ]
  },
  {
   "cell_type": "markdown",
   "id": "c1b0b49c-8ea4-4bfc-9e43-c593eeb86485",
   "metadata": {
    "tags": []
   },
   "source": [
    "### Exploratory Data Analysis"
   ]
  },
  {
   "cell_type": "code",
   "execution_count": 5,
   "id": "e4761b99-538e-48f5-8ecf-a88698183c07",
   "metadata": {},
   "outputs": [
    {
     "data": {
      "text/html": [
       "<div>\n",
       "<style scoped>\n",
       "    .dataframe tbody tr th:only-of-type {\n",
       "        vertical-align: middle;\n",
       "    }\n",
       "\n",
       "    .dataframe tbody tr th {\n",
       "        vertical-align: top;\n",
       "    }\n",
       "\n",
       "    .dataframe thead th {\n",
       "        text-align: right;\n",
       "    }\n",
       "</style>\n",
       "<table border=\"1\" class=\"dataframe\">\n",
       "  <thead>\n",
       "    <tr style=\"text-align: right;\">\n",
       "      <th></th>\n",
       "      <th>id</th>\n",
       "      <th>qid1</th>\n",
       "      <th>qid2</th>\n",
       "      <th>question1</th>\n",
       "      <th>question2</th>\n",
       "      <th>is_duplicate</th>\n",
       "    </tr>\n",
       "  </thead>\n",
       "  <tbody>\n",
       "    <tr>\n",
       "      <th>0</th>\n",
       "      <td>0</td>\n",
       "      <td>1</td>\n",
       "      <td>2</td>\n",
       "      <td>What is the step by step guide to invest in sh...</td>\n",
       "      <td>What is the step by step guide to invest in sh...</td>\n",
       "      <td>0</td>\n",
       "    </tr>\n",
       "    <tr>\n",
       "      <th>1</th>\n",
       "      <td>1</td>\n",
       "      <td>3</td>\n",
       "      <td>4</td>\n",
       "      <td>What is the story of Kohinoor (Koh-i-Noor) Dia...</td>\n",
       "      <td>What would happen if the Indian government sto...</td>\n",
       "      <td>0</td>\n",
       "    </tr>\n",
       "    <tr>\n",
       "      <th>2</th>\n",
       "      <td>2</td>\n",
       "      <td>5</td>\n",
       "      <td>6</td>\n",
       "      <td>How can I increase the speed of my internet co...</td>\n",
       "      <td>How can Internet speed be increased by hacking...</td>\n",
       "      <td>0</td>\n",
       "    </tr>\n",
       "    <tr>\n",
       "      <th>3</th>\n",
       "      <td>3</td>\n",
       "      <td>7</td>\n",
       "      <td>8</td>\n",
       "      <td>Why am I mentally very lonely? How can I solve...</td>\n",
       "      <td>Find the remainder when [math]23^{24}[/math] i...</td>\n",
       "      <td>0</td>\n",
       "    </tr>\n",
       "    <tr>\n",
       "      <th>4</th>\n",
       "      <td>4</td>\n",
       "      <td>9</td>\n",
       "      <td>10</td>\n",
       "      <td>Which one dissolve in water quikly sugar, salt...</td>\n",
       "      <td>Which fish would survive in salt water?</td>\n",
       "      <td>0</td>\n",
       "    </tr>\n",
       "  </tbody>\n",
       "</table>\n",
       "</div>"
      ],
      "text/plain": [
       "   id  qid1  qid2                                          question1  \\\n",
       "0   0     1     2  What is the step by step guide to invest in sh...   \n",
       "1   1     3     4  What is the story of Kohinoor (Koh-i-Noor) Dia...   \n",
       "2   2     5     6  How can I increase the speed of my internet co...   \n",
       "3   3     7     8  Why am I mentally very lonely? How can I solve...   \n",
       "4   4     9    10  Which one dissolve in water quikly sugar, salt...   \n",
       "\n",
       "                                           question2  is_duplicate  \n",
       "0  What is the step by step guide to invest in sh...             0  \n",
       "1  What would happen if the Indian government sto...             0  \n",
       "2  How can Internet speed be increased by hacking...             0  \n",
       "3  Find the remainder when [math]23^{24}[/math] i...             0  \n",
       "4            Which fish would survive in salt water?             0  "
      ]
     },
     "execution_count": 5,
     "metadata": {},
     "output_type": "execute_result"
    }
   ],
   "source": [
    "df.head()"
   ]
  },
  {
   "cell_type": "code",
   "execution_count": 6,
   "id": "3183fabb-c83d-463d-966e-8e21a2312dbc",
   "metadata": {},
   "outputs": [
    {
     "name": "stdout",
     "output_type": "stream",
     "text": [
      "<class 'pandas.core.frame.DataFrame'>\n",
      "RangeIndex: 404290 entries, 0 to 404289\n",
      "Data columns (total 6 columns):\n",
      " #   Column        Non-Null Count   Dtype \n",
      "---  ------        --------------   ----- \n",
      " 0   id            404290 non-null  int64 \n",
      " 1   qid1          404290 non-null  int64 \n",
      " 2   qid2          404290 non-null  int64 \n",
      " 3   question1     404289 non-null  object\n",
      " 4   question2     404288 non-null  object\n",
      " 5   is_duplicate  404290 non-null  int64 \n",
      "dtypes: int64(4), object(2)\n",
      "memory usage: 18.5+ MB\n"
     ]
    }
   ],
   "source": [
    "df.info()"
   ]
  },
  {
   "cell_type": "code",
   "execution_count": 7,
   "id": "a5c5f970-27ea-4802-bdeb-97e05297f940",
   "metadata": {},
   "outputs": [
    {
     "data": {
      "text/plain": [
       "<AxesSubplot:xlabel='is_duplicate'>"
      ]
     },
     "execution_count": 7,
     "metadata": {},
     "output_type": "execute_result"
    },
    {
     "data": {
      "image/png": "[encoded data removed]",
      "text/plain": [
       "<Figure size 432x288 with 1 Axes>"
      ]
     },
     "metadata": {
      "needs_background": "light"
     },
     "output_type": "display_data"
    }
   ],
   "source": [
    "df.groupby(\"is_duplicate\")[\"id\"].sum().plot.bar()"
   ]
  },
  {
   "cell_type": "markdown",
   "id": "5da4b116-d73d-45b5-96b3-0c0512828e48",
   "metadata": {},
   "source": [
    "### Preprocessing"
   ]
  },
  {
   "cell_type": "code",
   "execution_count": 8,
   "id": "da638e29-1a4b-4861-a3b7-bd22b9dfd85c",
   "metadata": {},
   "outputs": [],
   "source": [
    "df = preprocess.get_cleaned_data(df)"
   ]
  },
  {
   "cell_type": "markdown",
   "id": "20c22786-be78-4588-8a91-8a9e5c74b5ad",
   "metadata": {},
   "source": [
    "Group all the questions together"
   ]
  },
  {
   "cell_type": "code",
   "execution_count": 9,
   "id": "2c41b1cc-a0d9-43ad-b8fd-035ce9c9a8c1",
   "metadata": {},
   "outputs": [
    {
     "data": {
      "text/html": [
       "<div>\n",
       "<style scoped>\n",
       "    .dataframe tbody tr th:only-of-type {\n",
       "        vertical-align: middle;\n",
       "    }\n",
       "\n",
       "    .dataframe tbody tr th {\n",
       "        vertical-align: top;\n",
       "    }\n",
       "\n",
       "    .dataframe thead th {\n",
       "        text-align: right;\n",
       "    }\n",
       "</style>\n",
       "<table border=\"1\" class=\"dataframe\">\n",
       "  <thead>\n",
       "    <tr style=\"text-align: right;\">\n",
       "      <th></th>\n",
       "      <th>cleaned_q1</th>\n",
       "      <th>cleaned_q2</th>\n",
       "      <th>is_duplicate</th>\n",
       "    </tr>\n",
       "  </thead>\n",
       "  <tbody>\n",
       "    <tr>\n",
       "      <th>0</th>\n",
       "      <td>[step, step, guide, invest, share, market, india]</td>\n",
       "      <td>[step, step, guide, invest, share, market]</td>\n",
       "      <td>0</td>\n",
       "    </tr>\n",
       "    <tr>\n",
       "      <th>1</th>\n",
       "      <td>[story, kohinoor, koh, noor, diamond]</td>\n",
       "      <td>[would, happen, indian, government, stole, koh...</td>\n",
       "      <td>0</td>\n",
       "    </tr>\n",
       "    <tr>\n",
       "      <th>2</th>\n",
       "      <td>[increase, speed, internet, connection, using,...</td>\n",
       "      <td>[internet, speed, increased, hacking, dns]</td>\n",
       "      <td>0</td>\n",
       "    </tr>\n",
       "    <tr>\n",
       "      <th>3</th>\n",
       "      <td>[mentally, lonely, solve]</td>\n",
       "      <td>[find, remainder, math, math, divided]</td>\n",
       "      <td>0</td>\n",
       "    </tr>\n",
       "    <tr>\n",
       "      <th>4</th>\n",
       "      <td>[one, dissolve, water, quikly, sugar, salt, me...</td>\n",
       "      <td>[fish, would, survive, salt, water]</td>\n",
       "      <td>0</td>\n",
       "    </tr>\n",
       "  </tbody>\n",
       "</table>\n",
       "</div>"
      ],
      "text/plain": [
       "                                          cleaned_q1  \\\n",
       "0  [step, step, guide, invest, share, market, india]   \n",
       "1              [story, kohinoor, koh, noor, diamond]   \n",
       "2  [increase, speed, internet, connection, using,...   \n",
       "3                          [mentally, lonely, solve]   \n",
       "4  [one, dissolve, water, quikly, sugar, salt, me...   \n",
       "\n",
       "                                          cleaned_q2  is_duplicate  \n",
       "0         [step, step, guide, invest, share, market]             0  \n",
       "1  [would, happen, indian, government, stole, koh...             0  \n",
       "2         [internet, speed, increased, hacking, dns]             0  \n",
       "3             [find, remainder, math, math, divided]             0  \n",
       "4                [fish, would, survive, salt, water]             0  "
      ]
     },
     "execution_count": 9,
     "metadata": {},
     "output_type": "execute_result"
    }
   ],
   "source": [
    "df.head()"
   ]
  },
  {
   "cell_type": "markdown",
   "id": "a14b2e30-366a-49cf-a64d-fa9211c0e4a4",
   "metadata": {},
   "source": [
    "Instantiate a new word2vec model given all the questions"
   ]
  },
  {
   "cell_type": "code",
   "execution_count": 10,
   "id": "ca4ff328-c2ef-4bc6-906d-fbf9d59af51e",
   "metadata": {},
   "outputs": [],
   "source": [
    "questions = preprocess.get_all_questions(df)"
   ]
  },
  {
   "cell_type": "markdown",
   "id": "cb7e8682-699f-453f-a6d9-e2eb0a127f1f",
   "metadata": {},
   "source": [
    "Intersect the word2vec model against google's word2vec model and apply training to the new model"
   ]
  },
  {
   "cell_type": "code",
   "execution_count": 11,
   "id": "829a2d26-d60b-4084-a32f-44c759df8f9b",
   "metadata": {},
   "outputs": [],
   "source": [
    "data_path = \"../data/word2vec_model\"\n",
    "model = word2vec_model.load_model(data_path)\n",
    "if model == None:\n",
    "    model = word2vec_model.create_model(questions)\n",
    "    word2vec_model.save_model(model, data_path)"
   ]
  },
  {
   "cell_type": "markdown",
   "id": "c7859636-ebd4-4afd-92dd-eb50f948a0d6",
   "metadata": {},
   "source": [
    "#### Reasearch\n",
    " - Suggests that multiplying the vectors with their TF-IDF scores will give the best results for a 'sentence' vector"
   ]
  },
  {
   "cell_type": "code",
   "execution_count": 12,
   "id": "066142d2-80ef-4cee-9a45-649cff27f4fb",
   "metadata": {},
   "outputs": [],
   "source": [
    "from sklearn.feature_extraction.text import TfidfVectorizer\n",
    "from sklearn.metrics import pairwise_distances\n",
    "from sklearn.model_selection import train_test_split"
   ]
  },
  {
   "cell_type": "code",
   "execution_count": 13,
   "id": "3397f789-d7cd-4b9d-993a-a8f1c31f2da6",
   "metadata": {},
   "outputs": [],
   "source": [
    "sample = df.sample(10_000, random_state=100).reset_index(drop=True)\n",
    "\n",
    "\n",
    "X = sample[[\"cleaned_q1\", \"cleaned_q2\"]]\n",
    "y = sample[[\"is_duplicate\"]]\n",
    "\n",
    "X_train, X_test, y_train, y_test = train_test_split(X, y, test_size=0.2, random_state=100, stratify=y)"
   ]
  },
  {
   "cell_type": "code",
   "execution_count": 36,
   "id": "da8072df-3922-4451-8d6f-f29328c07892",
   "metadata": {},
   "outputs": [],
   "source": [
    "from tensorflow.keras.models import Sequential\n",
    "from tensorflow.keras.layers import Embedding, Flatten, Dense, StringLookup, LSTM, Dropout, ZeroPadding2D\n",
    "from tensorflow.keras.callbacks import EarlyStopping\n",
    "from tensorflow.keras.backend import clear_session\n",
    "from tensorflow.keras.utils import to_categorical\n",
    "import tensorflow as tf"
   ]
  },
  {
   "cell_type": "code",
   "execution_count": 15,
   "id": "563f8286-a8c6-4552-84c1-0a66640f67f5",
   "metadata": {},
   "outputs": [],
   "source": [
    "vocab = model.wv.index_to_key\n",
    "weights = model.wv.vectors"
   ]
  },
  {
   "cell_type": "code",
   "execution_count": 16,
   "id": "b6b3dad7-6a18-4b34-82b2-6613e37d99d6",
   "metadata": {},
   "outputs": [
    {
     "data": {
      "text/plain": [
       "array([[-0.12695312,  0.02197266,  0.28710938, ..., -0.1015625 ,\n",
       "        -0.09033203,  0.08837891],\n",
       "       [-0.6756524 ,  0.30152553, -1.008109  , ..., -0.35299873,\n",
       "        -0.5013534 , -1.7103904 ],\n",
       "       [-0.234375  , -0.07177734,  0.01055908, ..., -0.09521484,\n",
       "        -0.11621094, -0.11230469],\n",
       "       ...,\n",
       "       [ 0.6419923 , -0.23743276,  0.3387453 , ..., -0.23692861,\n",
       "        -0.18211327, -0.12591651],\n",
       "       [-0.01422119,  0.359375  , -0.10791016, ..., -0.05322266,\n",
       "         0.09765625,  0.08398438],\n",
       "       [ 0.06296369,  0.01724202,  0.20674233, ..., -0.16718297,\n",
       "        -0.04888789,  0.1357694 ]], dtype=float32)"
      ]
     },
     "execution_count": 16,
     "metadata": {},
     "output_type": "execute_result"
    }
   ],
   "source": [
    "weights"
   ]
  },
  {
   "cell_type": "code",
   "execution_count": 17,
   "id": "ba3cd4a6-a892-4d03-ac03-4b4715a3b1a1",
   "metadata": {},
   "outputs": [
    {
     "name": "stderr",
     "output_type": "stream",
     "text": [
      "2022-06-30 21:49:16.699907: W tensorflow/stream_executor/platform/default/dso_loader.cc:64] Could not load dynamic library 'libcuda.so.1'; dlerror: libcuda.so.1: cannot open shared object file: No such file or directory\n",
      "2022-06-30 21:49:16.699937: W tensorflow/stream_executor/cuda/cuda_driver.cc:269] failed call to cuInit: UNKNOWN ERROR (303)\n",
      "2022-06-30 21:49:16.699955: I tensorflow/stream_executor/cuda/cuda_diagnostics.cc:156] kernel driver does not appear to be running on this host (desktop): /proc/driver/nvidia/version does not exist\n",
      "2022-06-30 21:49:16.700207: I tensorflow/core/platform/cpu_feature_guard.cc:193] This TensorFlow binary is optimized with oneAPI Deep Neural Network Library (oneDNN) to use the following CPU instructions in performance-critical operations:  AVX2\n",
      "To enable them in other operations, rebuild TensorFlow with the appropriate compiler flags.\n"
     ]
    }
   ],
   "source": [
    "s_layer = StringLookup(vocabulary=vocab)\n"
   ]
  },
  {
   "cell_type": "code",
   "execution_count": 18,
   "id": "687c84d9-accd-44d3-b2be-f147c843f635",
   "metadata": {},
   "outputs": [],
   "source": [
    "def f(x):\n",
    "    try:\n",
    "        v = s_layer(x)\n",
    "        return v\n",
    "    except:\n",
    "        return 0\n",
    "    "
   ]
  },
  {
   "cell_type": "code",
   "execution_count": 19,
   "id": "f6909571-7ef6-41fd-b64a-e3e9c178f612",
   "metadata": {},
   "outputs": [
    {
     "name": "stderr",
     "output_type": "stream",
     "text": [
      "100%|█████████████████████████████████████████████████████████████████████████████████████████████████████████████████████████████████████████████████████| 8000/8000 [03:44<00:00, 35.57it/s]\n",
      "100%|█████████████████████████████████████████████████████████████████████████████████████████████████████████████████████████████████████████████████████| 8000/8000 [03:41<00:00, 36.05it/s]\n"
     ]
    }
   ],
   "source": [
    "t= X_train[\"cleaned_q1\"].progress_apply(f)\n",
    "t2 = X_train[\"cleaned_q2\"].progress_apply(f)"
   ]
  },
  {
   "cell_type": "code",
   "execution_count": 20,
   "id": "39f6f39f-a32e-463c-bf1f-328821c457b7",
   "metadata": {},
   "outputs": [],
   "source": [
    "t_pad = tf.keras.preprocessing.sequence.pad_sequences(t, padding=\"post\", maxlen=26)\n",
    "t2_pad = tf.keras.preprocessing.sequence.pad_sequences(t, padding=\"post\", maxlen=26)"
   ]
  },
  {
   "cell_type": "code",
   "execution_count": 21,
   "id": "256d7482-80fd-4aef-8371-9d31ef4b6e21",
   "metadata": {},
   "outputs": [],
   "source": [
    "combined = np.stack((t_pad, t2_pad), axis=1)"
   ]
  },
  {
   "cell_type": "code",
   "execution_count": 22,
   "id": "a51eaaef-33b5-4d16-8777-43c5bce3edc7",
   "metadata": {},
   "outputs": [
    {
     "data": {
      "text/plain": [
       "(8000, 52)"
      ]
     },
     "execution_count": 22,
     "metadata": {},
     "output_type": "execute_result"
    }
   ],
   "source": [
    "combined = combined.reshape(combined.shape[0], combined.shape[1]*combined.shape[2])\n",
    "combined.shape"
   ]
  },
  {
   "cell_type": "code",
   "execution_count": 23,
   "id": "6ffb5e37-891e-4e01-bb15-09151177f9a8",
   "metadata": {},
   "outputs": [
    {
     "name": "stderr",
     "output_type": "stream",
     "text": [
      "100%|█████████████████████████████████████████████████████████████████████████████████████████████████████████████████████████████████████████████████████| 2000/2000 [00:54<00:00, 36.63it/s]\n",
      "100%|█████████████████████████████████████████████████████████████████████████████████████████████████████████████████████████████████████████████████████| 2000/2000 [00:55<00:00, 36.29it/s]\n"
     ]
    }
   ],
   "source": [
    "test_1 = X_test[\"cleaned_q1\"].progress_apply(f)\n",
    "test_2 = X_test[\"cleaned_q2\"].progress_apply(f)"
   ]
  },
  {
   "cell_type": "code",
   "execution_count": 24,
   "id": "64c08d92-48b3-4a1f-a496-eeda8ad3bfe0",
   "metadata": {},
   "outputs": [],
   "source": [
    "test_1_pad = tf.keras.preprocessing.sequence.pad_sequences(test_1, padding=\"post\", maxlen=26)\n",
    "test_2_pad = tf.keras.preprocessing.sequence.pad_sequences(test_2, padding=\"post\", maxlen=26)"
   ]
  },
  {
   "cell_type": "code",
   "execution_count": 25,
   "id": "be810441-f1c4-460f-b2a2-a0ff122eced6",
   "metadata": {},
   "outputs": [
    {
     "data": {
      "text/plain": [
       "(2000, 52)"
      ]
     },
     "execution_count": 25,
     "metadata": {},
     "output_type": "execute_result"
    }
   ],
   "source": [
    "test_combined = np.stack((test_1_pad, test_2_pad), axis=1)\n",
    "test_combined = test_combined.reshape(test_combined.shape[0], test_combined.shape[1]*test_combined.shape[2])\n",
    "test_combined.shape"
   ]
  },
  {
   "cell_type": "code",
   "execution_count": 39,
   "id": "8969a4c2-2f33-4faf-b6c4-4c5a67a2d761",
   "metadata": {},
   "outputs": [],
   "source": [
    "clear_session()"
   ]
  },
  {
   "cell_type": "code",
   "execution_count": 40,
   "id": "9760b400-4565-46a7-98f7-c55b5b316284",
   "metadata": {},
   "outputs": [],
   "source": [
    "embed_layer= Embedding(\n",
    "    input_dim=len(vocab),\n",
    "    output_dim=300,\n",
    "    weights=[weights],\n",
    "    trainable=False,\n",
    ")\n",
    "\n",
    "nn = Sequential()\n",
    "nn.add(embed_layer)\n",
    "nn.add(LSTM(256, activation=\"relu\"))\n",
    "nn.add(Dropout(0.2))\n",
    "nn.add(Flatten())\n",
    "nn.add(Dense(128, activation=\"relu\"))\n",
    "nn.add(Dense(64, activation=\"relu\"))\n",
    "nn.add(Dense(2, activation=\"sigmoid\"))"
   ]
  },
  {
   "cell_type": "code",
   "execution_count": 41,
   "id": "7e37a44d-1fd5-4020-adbd-797e8b8b590b",
   "metadata": {},
   "outputs": [],
   "source": [
    "nn.compile(optimizer=\"adam\", loss=\"binary_crossentropy\", metrics=[\"acc\"])"
   ]
  },
  {
   "cell_type": "code",
   "execution_count": 42,
   "id": "2e7bc7be-7e94-4aba-8c40-c1ce3beb7a5a",
   "metadata": {},
   "outputs": [
    {
     "name": "stdout",
     "output_type": "stream",
     "text": [
      "Model: \"sequential\"\n",
      "_________________________________________________________________\n",
      " Layer (type)                Output Shape              Param #   \n",
      "=================================================================\n",
      " embedding (Embedding)       (None, None, 300)         7602000   \n",
      "                                                                 \n",
      " lstm (LSTM)                 (None, 256)               570368    \n",
      "                                                                 \n",
      " dropout (Dropout)           (None, 256)               0         \n",
      "                                                                 \n",
      " flatten (Flatten)           (None, 256)               0         \n",
      "                                                                 \n",
      " dense (Dense)               (None, 128)               32896     \n",
      "                                                                 \n",
      " dense_1 (Dense)             (None, 64)                8256      \n",
      "                                                                 \n",
      " dense_2 (Dense)             (None, 2)                 130       \n",
      "                                                                 \n",
      "=================================================================\n",
      "Total params: 8,213,650\n",
      "Trainable params: 611,650\n",
      "Non-trainable params: 7,602,000\n",
      "_________________________________________________________________\n"
     ]
    }
   ],
   "source": [
    "nn.summary()"
   ]
  },
  {
   "cell_type": "code",
   "execution_count": 43,
   "id": "8d317264-6f7b-4873-9f57-e856d0084077",
   "metadata": {},
   "outputs": [
    {
     "name": "stdout",
     "output_type": "stream",
     "text": [
      "Epoch 1/25\n",
      "250/250 [==============================] - 25s 94ms/step - loss: 43871.5117 - acc: 0.5980 - val_loss: 0.9334 - val_acc: 0.6295\n",
      "Epoch 2/25\n",
      "250/250 [==============================] - 23s 92ms/step - loss: 1.0944 - acc: 0.5740 - val_loss: 0.8943 - val_acc: 0.6295\n",
      "Epoch 3/25\n",
      "250/250 [==============================] - 23s 92ms/step - loss: 0.8739 - acc: 0.6010 - val_loss: 0.7244 - val_acc: 0.6210\n",
      "Epoch 4/25\n",
      "250/250 [==============================] - 23s 91ms/step - loss: 0.7822 - acc: 0.6200 - val_loss: 0.7755 - val_acc: 0.5085\n",
      "Epoch 5/25\n",
      "250/250 [==============================] - 23s 93ms/step - loss: 0.7654 - acc: 0.5580 - val_loss: 0.6829 - val_acc: 0.6085\n",
      "Epoch 6/25\n",
      "250/250 [==============================] - 23s 92ms/step - loss: 0.7039 - acc: 0.6170 - val_loss: 0.6813 - val_acc: 0.6275\n",
      "Epoch 7/25\n",
      "250/250 [==============================] - 22s 90ms/step - loss: 0.6820 - acc: 0.6330 - val_loss: 0.6622 - val_acc: 0.6295\n",
      "Epoch 8/25\n",
      "250/250 [==============================] - 23s 91ms/step - loss: 0.6653 - acc: 0.6370 - val_loss: 0.7142 - val_acc: 0.6295\n",
      "Epoch 9/25\n",
      "250/250 [==============================] - 23s 94ms/step - loss: 0.6829 - acc: 0.6230 - val_loss: 0.6768 - val_acc: 0.5850\n",
      "Epoch 10/25\n",
      "250/250 [==============================] - 23s 93ms/step - loss: 0.6883 - acc: 0.6150 - val_loss: 0.6660 - val_acc: 0.6295\n",
      "Epoch 11/25\n",
      "250/250 [==============================] - 24s 95ms/step - loss: 0.6792 - acc: 0.6040 - val_loss: 0.6607 - val_acc: 0.6295\n",
      "Epoch 12/25\n",
      "250/250 [==============================] - 23s 92ms/step - loss: 0.6760 - acc: 0.6200 - val_loss: 0.6653 - val_acc: 0.6295\n",
      "Epoch 13/25\n",
      "250/250 [==============================] - 24s 95ms/step - loss: 0.6645 - acc: 0.6300 - val_loss: 0.6633 - val_acc: 0.6160\n",
      "Epoch 14/25\n",
      "250/250 [==============================] - 26s 104ms/step - loss: 0.6724 - acc: 0.6060 - val_loss: 0.6598 - val_acc: 0.6215\n",
      "Epoch 15/25\n",
      "250/250 [==============================] - 23s 92ms/step - loss: 0.6848 - acc: 0.6420 - val_loss: 0.8084 - val_acc: 0.6295\n",
      "Epoch 16/25\n",
      "250/250 [==============================] - 24s 97ms/step - loss: 0.6725 - acc: 0.6300 - val_loss: 0.6531 - val_acc: 0.6295\n",
      "Epoch 17/25\n",
      "250/250 [==============================] - 27s 107ms/step - loss: 0.6599 - acc: 0.6190 - val_loss: 0.6541 - val_acc: 0.6295\n",
      "Epoch 18/25\n",
      "250/250 [==============================] - 24s 95ms/step - loss: 0.6486 - acc: 0.6460 - val_loss: 0.6529 - val_acc: 0.6295\n",
      "Epoch 19/25\n",
      "250/250 [==============================] - 24s 97ms/step - loss: 0.6625 - acc: 0.6170 - val_loss: 0.6528 - val_acc: 0.6295\n",
      "Epoch 20/25\n",
      "250/250 [==============================] - 24s 95ms/step - loss: 0.6532 - acc: 0.6420 - val_loss: 0.6538 - val_acc: 0.6295\n",
      "Epoch 21/25\n",
      "250/250 [==============================] - 24s 96ms/step - loss: 0.6439 - acc: 0.6430 - val_loss: 0.6498 - val_acc: 0.6295\n",
      "Epoch 22/25\n",
      "250/250 [==============================] - 24s 96ms/step - loss: 0.6624 - acc: 0.6250 - val_loss: 0.6541 - val_acc: 0.6295\n",
      "Epoch 23/25\n",
      "250/250 [==============================] - 24s 95ms/step - loss: 0.6612 - acc: 0.6240 - val_loss: 0.6538 - val_acc: 0.6295\n",
      "Epoch 24/25\n",
      "250/250 [==============================] - 25s 102ms/step - loss: 0.6631 - acc: 0.6180 - val_loss: 0.6526 - val_acc: 0.6295\n",
      "Epoch 25/25\n",
      "250/250 [==============================] - 25s 98ms/step - loss: 0.6537 - acc: 0.6330 - val_loss: 0.6528 - val_acc: 0.6295\n"
     ]
    }
   ],
   "source": [
    "history = nn.fit(combined, to_categorical(y_train), batch_size=4, epochs=25, steps_per_epoch=250, validation_data=[test_combined, to_categorical(y_test)], callbacks=[EarlyStopping(patience=5)])"
   ]
  },
  {
   "cell_type": "code",
   "execution_count": null,
   "id": "b5485aef-1357-4aa1-a1d9-10756c4de91c",
   "metadata": {},
   "outputs": [],
   "source": []
  }
 ],
 "metadata": {
  "kernelspec": {
   "display_name": "bootcamp",
   "language": "python",
   "name": "bootcamp"
  },
  "language_info": {
   "codemirror_mode": {
    "name": "ipython",
    "version": 3
   },
   "file_extension": ".py",
   "mimetype": "text/x-python",
   "name": "python",
   "nbconvert_exporter": "python",
   "pygments_lexer": "ipython3",
   "version": "3.9.13"
  }
 },
 "nbformat": 4,
 "nbformat_minor": 5
}
